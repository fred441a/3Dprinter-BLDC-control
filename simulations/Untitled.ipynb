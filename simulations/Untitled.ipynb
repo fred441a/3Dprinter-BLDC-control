{
 "cells": [
  {
   "cell_type": "code",
   "execution_count": 2,
   "id": "e3442900-ccbb-49b8-a900-f021c556451f",
   "metadata": {},
   "outputs": [
    {
     "ename": "NameError",
     "evalue": "name 'tf' is not defined",
     "output_type": "error",
     "traceback": [
      "\u001b[31m---------------------------------------------------------------------------\u001b[39m",
      "\u001b[31mNameError\u001b[39m                                 Traceback (most recent call last)",
      "\u001b[36mCell\u001b[39m\u001b[36m \u001b[39m\u001b[32mIn[2]\u001b[39m\u001b[32m, line 11\u001b[39m\n\u001b[32m      8\u001b[39m J = \u001b[32m0.1\u001b[39m;\n\u001b[32m      9\u001b[39m tau_L = \u001b[32m0\u001b[39m;\n\u001b[32m---> \u001b[39m\u001b[32m11\u001b[39m s = \u001b[43mtf\u001b[49m(\u001b[33m'\u001b[39m\u001b[33ms\u001b[39m\u001b[33m'\u001b[39m);\n\u001b[32m     13\u001b[39m H = K_t/((K_t*K_e) + (s*L + R) * (J*s + B));\n\u001b[32m     14\u001b[39m H\n",
      "\u001b[31mNameError\u001b[39m: name 'tf' is not defined"
     ]
    }
   ],
   "source": [
    "import \n",
    "\n",
    "# Here are my constants\n",
    "L = 1.12e-6;\n",
    "R = 2.8;\n",
    "K_t = 0.22;\n",
    "K_e = 2.25;\n",
    "B = 0.123;\n",
    "K_b = 0.0;\n",
    "J = 0.1;\n",
    "tau_L = 0;\n",
    "\n",
    "s = tf('s');\n",
    "\n",
    "H = K_t/((K_t*K_e) + (s*L + R) * (J*s + B));\n",
    "H"
   ]
  },
  {
   "cell_type": "code",
   "execution_count": null,
   "id": "a21e53c6-189b-4284-88e2-bcc535a2a5c0",
   "metadata": {},
   "outputs": [],
   "source": []
  }
 ],
 "metadata": {
  "kernelspec": {
   "display_name": "Python 3 (ipykernel)",
   "language": "python",
   "name": "python3"
  },
  "language_info": {
   "codemirror_mode": {
    "name": "ipython",
    "version": 3
   },
   "file_extension": ".py",
   "mimetype": "text/x-python",
   "name": "python",
   "nbconvert_exporter": "python",
   "pygments_lexer": "ipython3",
   "version": "3.13.0"
  }
 },
 "nbformat": 4,
 "nbformat_minor": 5
}
