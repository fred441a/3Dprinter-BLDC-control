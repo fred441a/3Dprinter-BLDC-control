{
 "cells": [
  {
   "cell_type": "markdown",
   "id": "b7954233-281f-4812-92d1-dabe5220a76e",
   "metadata": {},
   "source": [
    "Gearing Ratio:\n",
    "14:44\n",
    "18:37\n",
    "\n",
    "shaft diamater:\n",
    "~17.5 mm\n",
    "\n",
    "flow = $20mm^3/s$\n",
    "\n",
    "Fillament diameter:\n",
    "1.75mm\n",
    "\n",
    "?9.8mm/s speed?"
   ]
  },
  {
   "cell_type": "code",
   "execution_count": 9,
   "id": "f881c305-7a4c-4fc6-a3d8-2fa7add5912c",
   "metadata": {},
   "outputs": [],
   "source": [
    "from math import pi\n",
    "# specs\n",
    "gear_ratio = (14/44)*(18/37)\n",
    "shaft_dia = 17.5\n",
    "#added a little extra flow to have a buffer in motor rpm (it is nice that it could go above full extruder speed to compensate)\n",
    "flow = 20*2\n",
    "fil_dia = 1.75\n",
    "\n",
    "#requirements\n",
    "torque = 440 #Nmm (Newton milimeter)"
   ]
  },
  {
   "cell_type": "markdown",
   "id": "93df105b-437a-49ab-9aa6-f49c9a34c0a8",
   "metadata": {},
   "source": [
    "### Lets start by calculating the needed extrusion speed"
   ]
  },
  {
   "cell_type": "code",
   "execution_count": 10,
   "id": "2860245c-8b20-40ed-b6a6-823af2a647bc",
   "metadata": {},
   "outputs": [
    {
     "data": {
      "text/plain": [
       "117.2495545307506"
      ]
     },
     "execution_count": 10,
     "metadata": {},
     "output_type": "execute_result"
    }
   ],
   "source": [
    "#extruder_speed\n",
    "ext_speed = flow/(pi*(fil_dia/2)**2)\n",
    "#extruder angular velocity\n",
    "ext_ang_vel = (ext_speed*60) /(pi*shaft_dia)\n",
    "motor_ang_vel = ext_ang_vel*(1/gear_ratio)\n",
    "motor_ang_vel"
   ]
  },
  {
   "cell_type": "markdown",
   "id": "f4369c85-fd2c-4c03-9d5e-49078ca7260a",
   "metadata": {},
   "source": [
    "### Lets calculate extrusion torque"
   ]
  },
  {
   "cell_type": "code",
   "execution_count": 11,
   "id": "d6029755-6304-4f1c-b9b0-6e2cdd89709c",
   "metadata": {},
   "outputs": [
    {
     "data": {
      "text/plain": [
       "68.10810810810811"
      ]
     },
     "execution_count": 11,
     "metadata": {},
     "output_type": "execute_result"
    }
   ],
   "source": [
    "max_motor_trq = torque*gear_ratio\n",
    "max_motor_trq"
   ]
  },
  {
   "cell_type": "code",
   "execution_count": null,
   "id": "052a6e0d-0fb0-4029-91a0-03c77a741691",
   "metadata": {},
   "outputs": [],
   "source": []
  }
 ],
 "metadata": {
  "kernelspec": {
   "display_name": "Python 3",
   "language": "python",
   "name": "python3"
  },
  "language_info": {
   "codemirror_mode": {
    "name": "ipython",
    "version": 3
   },
   "file_extension": ".py",
   "mimetype": "text/x-python",
   "name": "python",
   "nbconvert_exporter": "python",
   "pygments_lexer": "ipython3",
   "version": "3.13.7"
  }
 },
 "nbformat": 4,
 "nbformat_minor": 5
}
