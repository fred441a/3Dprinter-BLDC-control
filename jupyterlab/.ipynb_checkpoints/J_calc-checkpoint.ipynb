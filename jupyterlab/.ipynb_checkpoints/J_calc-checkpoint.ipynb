{
 "cells": [
  {
   "cell_type": "code",
   "execution_count": 10,
   "id": "d8ef84c2-fd8c-456e-a7d1-8168e49efe39",
   "metadata": {},
   "outputs": [
    {
     "data": {
      "text/plain": [
       "8.2718433794e-05"
      ]
     },
     "execution_count": 10,
     "metadata": {},
     "output_type": "execute_result"
    }
   ],
   "source": [
    "r = 29.0/1000;\n",
    "h = 31.31/1000;\n",
    "pi = 3.1414\n",
    "massGlass = pi*r*r*h;\n",
    "massGlass\n"
   ]
  },
  {
   "cell_type": "code",
   "execution_count": 17,
   "id": "1b1fc384-fccf-47ef-92a4-0cb03b8190b0",
   "metadata": {},
   "outputs": [
    {
     "data": {
      "text/plain": [
       "0.019767203403571444"
      ]
     },
     "execution_count": 17,
     "metadata": {},
     "output_type": "execute_result"
    }
   ],
   "source": [
    "diff1 = 34.8/1000;\n",
    "diff2 = 36.2/1000;\n",
    "\n",
    "widthGear = 1.12/1000;\n",
    "\n",
    "diff1Mass = (pi*r*r*diff1) - massGlass\n",
    "diff2Mass = (pi*r*r*diff2) - massGlass\n",
    "\n",
    "diffMassFinal = (diff1Mass + diff2Mass)\n",
    "diffMassFinal\n",
    "\n",
    "aera = diffMassFinal/widthGear\n",
    "aera"
   ]
  },
  {
   "cell_type": "code",
   "execution_count": 18,
   "id": "578c0332-a91e-4498-8f06-b02f595320a1",
   "metadata": {},
   "outputs": [
    {
     "data": {
      "text/plain": [
       "0.0004981335257700004"
      ]
     },
     "execution_count": 18,
     "metadata": {},
     "output_type": "execute_result"
    }
   ],
   "source": [
    "weight = (18.91+6.29)/1000\n",
    "\n",
    "J = weight*aera\n",
    "J"
   ]
  },
  {
   "cell_type": "code",
   "execution_count": null,
   "id": "53fe07e4-2c2b-4343-8e94-d2b1f6a36749",
   "metadata": {},
   "outputs": [],
   "source": []
  }
 ],
 "metadata": {
  "kernelspec": {
   "display_name": "Python 3 (ipykernel)",
   "language": "python",
   "name": "python3"
  },
  "language_info": {
   "codemirror_mode": {
    "name": "ipython",
    "version": 3
   },
   "file_extension": ".py",
   "mimetype": "text/x-python",
   "name": "python",
   "nbconvert_exporter": "python",
   "pygments_lexer": "ipython3",
   "version": "3.13.0"
  }
 },
 "nbformat": 4,
 "nbformat_minor": 5
}
