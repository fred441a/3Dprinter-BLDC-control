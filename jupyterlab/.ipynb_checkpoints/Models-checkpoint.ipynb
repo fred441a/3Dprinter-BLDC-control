{
 "cells": [
  {
   "cell_type": "markdown",
   "id": "5e2516c6-7c3e-43f0-a617-28a921456204",
   "metadata": {},
   "source": [
    "## Model for torque to pressure\n",
    "\n",
    "$ \\tau = F \\cdot r$\n",
    "\n",
    "$ F = \\frac{\\tau}{r}$\n",
    "\n",
    "\n",
    "$ p = \\frac{\\tau}{A\\cdot r}$\n",
    "\n",
    "A = area of filament\n",
    "r = Radius of extuder gear"
   ]
  },
  {
   "cell_type": "code",
   "execution_count": 1,
   "id": "b39ab7ea-add5-4387-a9ca-39849050cf67",
   "metadata": {},
   "outputs": [
    {
     "ename": "ModuleNotFoundError",
     "evalue": "No module named 'sympy'",
     "output_type": "error",
     "traceback": [
      "\u001b[31m---------------------------------------------------------------------------\u001b[39m",
      "\u001b[31mModuleNotFoundError\u001b[39m                       Traceback (most recent call last)",
      "\u001b[36mCell\u001b[39m\u001b[36m \u001b[39m\u001b[32mIn[1]\u001b[39m\u001b[32m, line 1\u001b[39m\n\u001b[32m----> \u001b[39m\u001b[32m1\u001b[39m \u001b[38;5;28;01mfrom\u001b[39;00m\u001b[38;5;250m \u001b[39m\u001b[34;01msympy\u001b[39;00m\u001b[38;5;250m \u001b[39m\u001b[38;5;28;01mimport\u001b[39;00m *\n",
      "\u001b[31mModuleNotFoundError\u001b[39m: No module named 'sympy'"
     ]
    }
   ],
   "source": [
    "from sympy import *"
   ]
  },
  {
   "cell_type": "code",
   "execution_count": null,
   "id": "2415d35f-da13-4e30-bc54-a4faed2b9bcf",
   "metadata": {},
   "outputs": [],
   "source": []
  }
 ],
 "metadata": {
  "kernelspec": {
   "display_name": "Python 3",
   "language": "python",
   "name": "python3"
  },
  "language_info": {
   "codemirror_mode": {
    "name": "ipython",
    "version": 3
   },
   "file_extension": ".py",
   "mimetype": "text/x-python",
   "name": "python",
   "nbconvert_exporter": "python",
   "pygments_lexer": "ipython3",
   "version": "3.13.7"
  }
 },
 "nbformat": 4,
 "nbformat_minor": 5
}
